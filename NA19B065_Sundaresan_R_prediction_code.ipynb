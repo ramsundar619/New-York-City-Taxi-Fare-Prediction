{
  "nbformat": 4,
  "nbformat_minor": 0,
  "metadata": {
    "colab": {
      "name": "NA19B065_Sundaresan R_prediction_code.ipynb",
      "provenance": [],
      "collapsed_sections": [],
      "authorship_tag": "ABX9TyOx+XBOMXjpP82fR1kL/qvw",
      "include_colab_link": true
    },
    "kernelspec": {
      "name": "python3",
      "display_name": "Python 3"
    },
    "language_info": {
      "name": "python"
    }
  },
  "cells": [
    {
      "cell_type": "markdown",
      "metadata": {
        "id": "view-in-github",
        "colab_type": "text"
      },
      "source": [
        "<a href=\"https://colab.research.google.com/github/ramsundar619/New-York-City-Taxi-Fare-Prediction/blob/main/NA19B065_Sundaresan_R_prediction_code.ipynb\" target=\"_parent\"><img src=\"https://colab.research.google.com/assets/colab-badge.svg\" alt=\"Open In Colab\"/></a>"
      ]
    },
    {
      "cell_type": "code",
      "metadata": {
        "id": "dxGgeHWt2N2X"
      },
      "source": [
        "#importing required libraries\n",
        "import numpy as np \n",
        "import pandas as pd\n",
        "import matplotlib.pyplot as plt\n",
        "import seaborn as sns\n",
        "import datetime as dt\n",
        "from sklearn.model_selection import train_test_split\n",
        "from sklearn.metrics import mean_squared_error as mse\n",
        "import lightgbm as lgbm"
      ],
      "execution_count": null,
      "outputs": []
    },
    {
      "cell_type": "code",
      "metadata": {
        "colab": {
          "base_uri": "https://localhost:8080/",
          "height": 226
        },
        "id": "Y8oYwtC75Xyn",
        "outputId": "71a4db28-2174-4bb9-ada6-0b65219c8a2a"
      },
      "source": [
        "train_df =  pd.read_csv('/content/train_data_iitm.csv') # reading train_data\n",
        "train_df.head()"
      ],
      "execution_count": null,
      "outputs": [
        {
          "output_type": "execute_result",
          "data": {
            "text/html": [
              "<div>\n",
              "<style scoped>\n",
              "    .dataframe tbody tr th:only-of-type {\n",
              "        vertical-align: middle;\n",
              "    }\n",
              "\n",
              "    .dataframe tbody tr th {\n",
              "        vertical-align: top;\n",
              "    }\n",
              "\n",
              "    .dataframe thead th {\n",
              "        text-align: right;\n",
              "    }\n",
              "</style>\n",
              "<table border=\"1\" class=\"dataframe\">\n",
              "  <thead>\n",
              "    <tr style=\"text-align: right;\">\n",
              "      <th></th>\n",
              "      <th>VendorID</th>\n",
              "      <th>tpep_pickup_datetime</th>\n",
              "      <th>tpep_dropoff_datetime</th>\n",
              "      <th>passenger_count</th>\n",
              "      <th>trip_distance</th>\n",
              "      <th>RatecodeID</th>\n",
              "      <th>store_and_fwd_flag</th>\n",
              "      <th>PULocationID</th>\n",
              "      <th>DOLocationID</th>\n",
              "      <th>payment_type</th>\n",
              "      <th>fare_amount</th>\n",
              "      <th>congestion_surcharge</th>\n",
              "    </tr>\n",
              "  </thead>\n",
              "  <tbody>\n",
              "    <tr>\n",
              "      <th>0</th>\n",
              "      <td>2.0</td>\n",
              "      <td>2020-06-10 13:36:49</td>\n",
              "      <td>2020-06-10 13:51:08</td>\n",
              "      <td>1.0</td>\n",
              "      <td>2.73</td>\n",
              "      <td>1.0</td>\n",
              "      <td>N</td>\n",
              "      <td>224</td>\n",
              "      <td>148</td>\n",
              "      <td>2.0</td>\n",
              "      <td>12.00</td>\n",
              "      <td>2.5</td>\n",
              "    </tr>\n",
              "    <tr>\n",
              "      <th>1</th>\n",
              "      <td>NaN</td>\n",
              "      <td>2020-06-13 06:19:00</td>\n",
              "      <td>2020-06-13 06:37:00</td>\n",
              "      <td>NaN</td>\n",
              "      <td>11.58</td>\n",
              "      <td>NaN</td>\n",
              "      <td>NaN</td>\n",
              "      <td>56</td>\n",
              "      <td>42</td>\n",
              "      <td>NaN</td>\n",
              "      <td>28.81</td>\n",
              "      <td>0.0</td>\n",
              "    </tr>\n",
              "    <tr>\n",
              "      <th>2</th>\n",
              "      <td>2.0</td>\n",
              "      <td>2020-06-20 07:59:23</td>\n",
              "      <td>2020-06-20 08:05:39</td>\n",
              "      <td>1.0</td>\n",
              "      <td>2.05</td>\n",
              "      <td>1.0</td>\n",
              "      <td>N</td>\n",
              "      <td>79</td>\n",
              "      <td>68</td>\n",
              "      <td>2.0</td>\n",
              "      <td>8.00</td>\n",
              "      <td>2.5</td>\n",
              "    </tr>\n",
              "    <tr>\n",
              "      <th>3</th>\n",
              "      <td>1.0</td>\n",
              "      <td>2020-06-27 15:11:32</td>\n",
              "      <td>2020-06-27 15:15:02</td>\n",
              "      <td>1.0</td>\n",
              "      <td>1.40</td>\n",
              "      <td>1.0</td>\n",
              "      <td>N</td>\n",
              "      <td>236</td>\n",
              "      <td>75</td>\n",
              "      <td>1.0</td>\n",
              "      <td>6.00</td>\n",
              "      <td>2.5</td>\n",
              "    </tr>\n",
              "    <tr>\n",
              "      <th>4</th>\n",
              "      <td>1.0</td>\n",
              "      <td>2020-06-26 16:00:36</td>\n",
              "      <td>2020-06-26 16:02:28</td>\n",
              "      <td>1.0</td>\n",
              "      <td>0.60</td>\n",
              "      <td>1.0</td>\n",
              "      <td>N</td>\n",
              "      <td>186</td>\n",
              "      <td>90</td>\n",
              "      <td>2.0</td>\n",
              "      <td>4.00</td>\n",
              "      <td>2.5</td>\n",
              "    </tr>\n",
              "  </tbody>\n",
              "</table>\n",
              "</div>"
            ],
            "text/plain": [
              "   VendorID tpep_pickup_datetime  ... fare_amount  congestion_surcharge\n",
              "0       2.0  2020-06-10 13:36:49  ...       12.00                   2.5\n",
              "1       NaN  2020-06-13 06:19:00  ...       28.81                   0.0\n",
              "2       2.0  2020-06-20 07:59:23  ...        8.00                   2.5\n",
              "3       1.0  2020-06-27 15:11:32  ...        6.00                   2.5\n",
              "4       1.0  2020-06-26 16:00:36  ...        4.00                   2.5\n",
              "\n",
              "[5 rows x 12 columns]"
            ]
          },
          "metadata": {},
          "execution_count": 2
        }
      ]
    },
    {
      "cell_type": "code",
      "metadata": {
        "colab": {
          "base_uri": "https://localhost:8080/"
        },
        "id": "1cZOjVTp5uLK",
        "outputId": "1e257551-2900-41da-da67-151363d31006"
      },
      "source": [
        "train_df.isnull().sum().sort_index() # checking for null values"
      ],
      "execution_count": null,
      "outputs": [
        {
          "output_type": "execute_result",
          "data": {
            "text/plain": [
              "DOLocationID                0\n",
              "PULocationID                0\n",
              "RatecodeID               5635\n",
              "VendorID                 5635\n",
              "congestion_surcharge        0\n",
              "fare_amount                 0\n",
              "passenger_count          5635\n",
              "payment_type             5635\n",
              "store_and_fwd_flag       5635\n",
              "tpep_dropoff_datetime       0\n",
              "tpep_pickup_datetime        0\n",
              "trip_distance               0\n",
              "dtype: int64"
            ]
          },
          "metadata": {},
          "execution_count": 3
        }
      ]
    },
    {
      "cell_type": "code",
      "metadata": {
        "id": "cfnZhgw85yJw"
      },
      "source": [
        "train_df = train_df.dropna(how = 'any', axis = 'rows') # dropping null values\n",
        "train_df = train_df.drop(columns = ['store_and_fwd_flag']) # store_and_fwd_flag feature values be only 'N' after remvoing NAN values which will not contribute to prediction"
      ],
      "execution_count": null,
      "outputs": []
    },
    {
      "cell_type": "code",
      "metadata": {
        "colab": {
          "base_uri": "https://localhost:8080/",
          "height": 300
        },
        "id": "psRBmIPT8Rd2",
        "outputId": "d70243e6-e0c4-4870-d4ec-4e027f481e52"
      },
      "source": [
        "train_df.describe() # statistical analysis of features"
      ],
      "execution_count": null,
      "outputs": [
        {
          "output_type": "execute_result",
          "data": {
            "text/html": [
              "<div>\n",
              "<style scoped>\n",
              "    .dataframe tbody tr th:only-of-type {\n",
              "        vertical-align: middle;\n",
              "    }\n",
              "\n",
              "    .dataframe tbody tr th {\n",
              "        vertical-align: top;\n",
              "    }\n",
              "\n",
              "    .dataframe thead th {\n",
              "        text-align: right;\n",
              "    }\n",
              "</style>\n",
              "<table border=\"1\" class=\"dataframe\">\n",
              "  <thead>\n",
              "    <tr style=\"text-align: right;\">\n",
              "      <th></th>\n",
              "      <th>VendorID</th>\n",
              "      <th>passenger_count</th>\n",
              "      <th>trip_distance</th>\n",
              "      <th>RatecodeID</th>\n",
              "      <th>PULocationID</th>\n",
              "      <th>DOLocationID</th>\n",
              "      <th>payment_type</th>\n",
              "      <th>fare_amount</th>\n",
              "      <th>congestion_surcharge</th>\n",
              "    </tr>\n",
              "  </thead>\n",
              "  <tbody>\n",
              "    <tr>\n",
              "      <th>count</th>\n",
              "      <td>54365.000000</td>\n",
              "      <td>54365.000000</td>\n",
              "      <td>54365.000000</td>\n",
              "      <td>54365.000000</td>\n",
              "      <td>54365.000000</td>\n",
              "      <td>54365.000000</td>\n",
              "      <td>54365.000000</td>\n",
              "      <td>54365.000000</td>\n",
              "      <td>54365.000000</td>\n",
              "    </tr>\n",
              "    <tr>\n",
              "      <th>mean</th>\n",
              "      <td>1.597554</td>\n",
              "      <td>1.353702</td>\n",
              "      <td>2.830018</td>\n",
              "      <td>1.047383</td>\n",
              "      <td>160.418633</td>\n",
              "      <td>155.555836</td>\n",
              "      <td>1.373604</td>\n",
              "      <td>11.840025</td>\n",
              "      <td>2.102594</td>\n",
              "    </tr>\n",
              "    <tr>\n",
              "      <th>std</th>\n",
              "      <td>0.490395</td>\n",
              "      <td>1.012809</td>\n",
              "      <td>3.573520</td>\n",
              "      <td>1.078021</td>\n",
              "      <td>68.550260</td>\n",
              "      <td>73.584395</td>\n",
              "      <td>0.532802</td>\n",
              "      <td>11.302908</td>\n",
              "      <td>0.942838</td>\n",
              "    </tr>\n",
              "    <tr>\n",
              "      <th>min</th>\n",
              "      <td>1.000000</td>\n",
              "      <td>0.000000</td>\n",
              "      <td>0.000000</td>\n",
              "      <td>1.000000</td>\n",
              "      <td>1.000000</td>\n",
              "      <td>1.000000</td>\n",
              "      <td>1.000000</td>\n",
              "      <td>-149.000000</td>\n",
              "      <td>-2.500000</td>\n",
              "    </tr>\n",
              "    <tr>\n",
              "      <th>25%</th>\n",
              "      <td>1.000000</td>\n",
              "      <td>1.000000</td>\n",
              "      <td>1.000000</td>\n",
              "      <td>1.000000</td>\n",
              "      <td>107.000000</td>\n",
              "      <td>90.000000</td>\n",
              "      <td>1.000000</td>\n",
              "      <td>6.000000</td>\n",
              "      <td>2.500000</td>\n",
              "    </tr>\n",
              "    <tr>\n",
              "      <th>50%</th>\n",
              "      <td>2.000000</td>\n",
              "      <td>1.000000</td>\n",
              "      <td>1.700000</td>\n",
              "      <td>1.000000</td>\n",
              "      <td>161.000000</td>\n",
              "      <td>158.000000</td>\n",
              "      <td>1.000000</td>\n",
              "      <td>8.500000</td>\n",
              "      <td>2.500000</td>\n",
              "    </tr>\n",
              "    <tr>\n",
              "      <th>75%</th>\n",
              "      <td>2.000000</td>\n",
              "      <td>1.000000</td>\n",
              "      <td>3.140000</td>\n",
              "      <td>1.000000</td>\n",
              "      <td>234.000000</td>\n",
              "      <td>234.000000</td>\n",
              "      <td>2.000000</td>\n",
              "      <td>13.500000</td>\n",
              "      <td>2.500000</td>\n",
              "    </tr>\n",
              "    <tr>\n",
              "      <th>max</th>\n",
              "      <td>2.000000</td>\n",
              "      <td>6.000000</td>\n",
              "      <td>114.300000</td>\n",
              "      <td>99.000000</td>\n",
              "      <td>265.000000</td>\n",
              "      <td>265.000000</td>\n",
              "      <td>5.000000</td>\n",
              "      <td>400.000000</td>\n",
              "      <td>2.500000</td>\n",
              "    </tr>\n",
              "  </tbody>\n",
              "</table>\n",
              "</div>"
            ],
            "text/plain": [
              "           VendorID  passenger_count  ...   fare_amount  congestion_surcharge\n",
              "count  54365.000000     54365.000000  ...  54365.000000          54365.000000\n",
              "mean       1.597554         1.353702  ...     11.840025              2.102594\n",
              "std        0.490395         1.012809  ...     11.302908              0.942838\n",
              "min        1.000000         0.000000  ...   -149.000000             -2.500000\n",
              "25%        1.000000         1.000000  ...      6.000000              2.500000\n",
              "50%        2.000000         1.000000  ...      8.500000              2.500000\n",
              "75%        2.000000         1.000000  ...     13.500000              2.500000\n",
              "max        2.000000         6.000000  ...    400.000000              2.500000\n",
              "\n",
              "[8 rows x 9 columns]"
            ]
          },
          "metadata": {},
          "execution_count": 5
        }
      ]
    },
    {
      "cell_type": "code",
      "metadata": {
        "colab": {
          "base_uri": "https://localhost:8080/",
          "height": 514
        },
        "id": "XAWi9MB2809i",
        "outputId": "0c11356f-7388-45b7-ddfc-ce6990c03869"
      },
      "source": [
        "train_df[train_df.passenger_count < 7].passenger_count.hist(bins=10, figsize = (16,8)) # analysis of passenger_count\n",
        "plt.xlabel(\"Passanger Count\")\n",
        "plt.ylabel(\"Frequency\")"
      ],
      "execution_count": null,
      "outputs": [
        {
          "output_type": "execute_result",
          "data": {
            "text/plain": [
              "Text(0, 0.5, 'Frequency')"
            ]
          },
          "metadata": {},
          "execution_count": 6
        },
        {
          "output_type": "display_data",
          "data": {
            "image/png": "[encoded data removed]",
            "text/plain": [
              "<Figure size 1152x576 with 1 Axes>"
            ]
          },
          "metadata": {
            "needs_background": "light"
          }
        }
      ]
    },
    {
      "cell_type": "code",
      "metadata": {
        "id": "5CWyQwh79IRd"
      },
      "source": [
        "train_df.drop(train_df[train_df['passenger_count'] == 0].index, axis=0, inplace = True) # number of passengers cannot be 0"
      ],
      "execution_count": null,
      "outputs": []
    },
    {
      "cell_type": "code",
      "metadata": {
        "colab": {
          "base_uri": "https://localhost:8080/",
          "height": 112
        },
        "id": "1of9qGMU9iQc",
        "outputId": "9a05b803-0758-46a4-ce96-74ffd1bf7c0b"
      },
      "source": [
        "train_df[train_df.passenger_count <7][['fare_amount','passenger_count']].corr() # shows how weakly fare_amount and passenger_count correlated"
      ],
      "execution_count": null,
      "outputs": [
        {
          "output_type": "execute_result",
          "data": {
            "text/html": [
              "<div>\n",
              "<style scoped>\n",
              "    .dataframe tbody tr th:only-of-type {\n",
              "        vertical-align: middle;\n",
              "    }\n",
              "\n",
              "    .dataframe tbody tr th {\n",
              "        vertical-align: top;\n",
              "    }\n",
              "\n",
              "    .dataframe thead th {\n",
              "        text-align: right;\n",
              "    }\n",
              "</style>\n",
              "<table border=\"1\" class=\"dataframe\">\n",
              "  <thead>\n",
              "    <tr style=\"text-align: right;\">\n",
              "      <th></th>\n",
              "      <th>fare_amount</th>\n",
              "      <th>passenger_count</th>\n",
              "    </tr>\n",
              "  </thead>\n",
              "  <tbody>\n",
              "    <tr>\n",
              "      <th>fare_amount</th>\n",
              "      <td>1.000000</td>\n",
              "      <td>0.002855</td>\n",
              "    </tr>\n",
              "    <tr>\n",
              "      <th>passenger_count</th>\n",
              "      <td>0.002855</td>\n",
              "      <td>1.000000</td>\n",
              "    </tr>\n",
              "  </tbody>\n",
              "</table>\n",
              "</div>"
            ],
            "text/plain": [
              "                 fare_amount  passenger_count\n",
              "fare_amount         1.000000         0.002855\n",
              "passenger_count     0.002855         1.000000"
            ]
          },
          "metadata": {},
          "execution_count": 8
        }
      ]
    },
    {
      "cell_type": "code",
      "metadata": {
        "id": "ziYYCFyL9myX"
      },
      "source": [
        "train_df.drop(train_df[train_df['trip_distance'] == 0].index, axis=0, inplace = True) # dist cannot be 0"
      ],
      "execution_count": null,
      "outputs": []
    },
    {
      "cell_type": "code",
      "metadata": {
        "colab": {
          "base_uri": "https://localhost:8080/",
          "height": 500
        },
        "id": "hh-5NLpU-esz",
        "outputId": "9c4d51ea-9889-46fb-8392-8025c207c7cb"
      },
      "source": [
        "train_df.drop(train_df[train_df['RatecodeID'] > 6].index, axis=0, inplace = True) # RatecodeID values lies in 1-5\n",
        "train_df[train_df.RatecodeID < 7].RatecodeID.hist(bins=10, figsize = (16,8))"
      ],
      "execution_count": null,
      "outputs": [
        {
          "output_type": "execute_result",
          "data": {
            "text/plain": [
              "<matplotlib.axes._subplots.AxesSubplot at 0x7f5494043ad0>"
            ]
          },
          "metadata": {},
          "execution_count": 10
        },
        {
          "output_type": "display_data",
          "data": {
            "image/png": "[encoded data removed]",
            "text/plain": [
              "<Figure size 1152x576 with 1 Axes>"
            ]
          },
          "metadata": {
            "needs_background": "light"
          }
        }
      ]
    },
    {
      "cell_type": "code",
      "metadata": {
        "colab": {
          "base_uri": "https://localhost:8080/",
          "height": 500
        },
        "id": "HCFArRLh-0yE",
        "outputId": "089481ec-9427-4eb5-e100-7fd3f01ed429"
      },
      "source": [
        "train_df[train_df.payment_type < 6].payment_type.hist(bins=10, figsize = (16,8)) # analysing payment_type"
      ],
      "execution_count": null,
      "outputs": [
        {
          "output_type": "execute_result",
          "data": {
            "text/plain": [
              "<matplotlib.axes._subplots.AxesSubplot at 0x7f5494527f10>"
            ]
          },
          "metadata": {},
          "execution_count": 11
        },
        {
          "output_type": "display_data",
          "data": {
            "image/png": "[encoded data removed]",
            "text/plain": [
              "<Figure size 1152x576 with 1 Axes>"
            ]
          },
          "metadata": {
            "needs_background": "light"
          }
        }
      ]
    },
    {
      "cell_type": "code",
      "metadata": {
        "colab": {
          "base_uri": "https://localhost:8080/"
        },
        "id": "4vTCiUho_E7g",
        "outputId": "e2d5b3b0-a594-4fe4-c99b-e27559b23f4d"
      },
      "source": [
        "train_df[train_df.fare_amount > 100 ].shape # Fare amounts greater than 100 are too low so can be removed "
      ],
      "execution_count": null,
      "outputs": [
        {
          "output_type": "execute_result",
          "data": {
            "text/plain": [
              "(44, 11)"
            ]
          },
          "metadata": {},
          "execution_count": 12
        }
      ]
    },
    {
      "cell_type": "code",
      "metadata": {
        "colab": {
          "base_uri": "https://localhost:8080/",
          "height": 514
        },
        "id": "WaWvhM8d_cAZ",
        "outputId": "87f0d82d-faed-4451-cdcb-2d0e51b992fa"
      },
      "source": [
        "train_df[train_df.fare_amount <100 ].fare_amount.hist(bins=100, figsize = (16,8)) # visualising fare amount\n",
        "plt.xlabel(\"Fare Amount\")\n",
        "plt.ylabel(\"Frequency\")"
      ],
      "execution_count": null,
      "outputs": [
        {
          "output_type": "execute_result",
          "data": {
            "text/plain": [
              "Text(0, 0.5, 'Frequency')"
            ]
          },
          "metadata": {},
          "execution_count": 13
        },
        {
          "output_type": "display_data",
          "data": {
            "image/png": "[encoded data removed]",
            "text/plain": [
              "<Figure size 1152x576 with 1 Axes>"
            ]
          },
          "metadata": {
            "needs_background": "light"
          }
        }
      ]
    },
    {
      "cell_type": "code",
      "metadata": {
        "id": "vs5t6PdzAJH8"
      },
      "source": [
        "train_df.drop(train_df[train_df['fare_amount'] <= 0].index, axis=0, inplace = True) # fare cannot be 0 or negative\n",
        "train_df.drop(train_df[train_df['fare_amount'] > 100].index, axis=0, inplace = True)"
      ],
      "execution_count": null,
      "outputs": []
    },
    {
      "cell_type": "code",
      "metadata": {
        "colab": {
          "base_uri": "https://localhost:8080/"
        },
        "id": "IVq4ytdnAySj",
        "outputId": "a5472967-c631-495d-d2e2-d439ee8ef85a"
      },
      "source": [
        "train_df[train_df.fare_amount < 2.5].shape # This clearly shows minimum rate should be atleast 2.5"
      ],
      "execution_count": null,
      "outputs": [
        {
          "output_type": "execute_result",
          "data": {
            "text/plain": [
              "(2, 11)"
            ]
          },
          "metadata": {},
          "execution_count": 15
        }
      ]
    },
    {
      "cell_type": "code",
      "metadata": {
        "id": "nOGuM59CA73a"
      },
      "source": [
        "train_df.drop(train_df[train_df['fare_amount'] < 2.5].index, axis=0, inplace = True)"
      ],
      "execution_count": null,
      "outputs": []
    },
    {
      "cell_type": "code",
      "metadata": {
        "id": "5SimEWH9BGP8"
      },
      "source": [
        "def add_datetime_info_pu(dataset): # extracting days,months,year,weekday from the given format\n",
        "    #Convert to datetime format\n",
        "    dataset['tpep_pickup_datetime'] = pd.to_datetime(dataset['tpep_pickup_datetime'],format=\"%Y-%m-%d %H:%M:%S\")\n",
        "    dataset['hour'] = dataset.tpep_pickup_datetime.dt.hour\n",
        "    dataset['day'] = dataset.tpep_pickup_datetime.dt.day\n",
        "    dataset['month'] = dataset.tpep_pickup_datetime.dt.month\n",
        "    dataset['weekday'] = dataset.tpep_pickup_datetime.dt.weekday\n",
        "    dataset['year'] = dataset.tpep_pickup_datetime.dt.year\n",
        "    return dataset\n",
        "\n",
        "def add_datetime_info_do(dataset):\n",
        "    #Convert to datetime format\n",
        "    dataset['tpep_dropoff_datetime'] = pd.to_datetime(dataset['tpep_dropoff_datetime'],format=\"%Y-%m-%d %H:%M:%S\")\n",
        "    dataset['hour'] = dataset.tpep_dropoff_datetime.dt.hour\n",
        "    dataset['day'] = dataset.tpep_dropoff_datetime.dt.day\n",
        "    dataset['month'] = dataset.tpep_dropoff_datetime.dt.month\n",
        "    dataset['weekday'] = dataset.tpep_dropoff_datetime.dt.weekday\n",
        "    dataset['year'] = dataset.tpep_dropoff_datetime.dt.year\n",
        "    return dataset\n",
        "train_df = add_datetime_info_pu(train_df)\n",
        "train_df = add_datetime_info_do(train_df)"
      ],
      "execution_count": null,
      "outputs": []
    },
    {
      "cell_type": "code",
      "metadata": {
        "id": "KjTD7mxwCK2J"
      },
      "source": [
        "train_df.drop(columns=['tpep_pickup_datetime', 'tpep_dropoff_datetime'], inplace=True)"
      ],
      "execution_count": null,
      "outputs": []
    },
    {
      "cell_type": "code",
      "metadata": {
        "colab": {
          "base_uri": "https://localhost:8080/",
          "height": 320
        },
        "id": "RoWb8iqICWt2",
        "outputId": "e35e9af7-0134-4642-ffcf-cd383c2e5687"
      },
      "source": [
        "train_df.describe()"
      ],
      "execution_count": null,
      "outputs": [
        {
          "output_type": "execute_result",
          "data": {
            "text/html": [
              "<div>\n",
              "<style scoped>\n",
              "    .dataframe tbody tr th:only-of-type {\n",
              "        vertical-align: middle;\n",
              "    }\n",
              "\n",
              "    .dataframe tbody tr th {\n",
              "        vertical-align: top;\n",
              "    }\n",
              "\n",
              "    .dataframe thead th {\n",
              "        text-align: right;\n",
              "    }\n",
              "</style>\n",
              "<table border=\"1\" class=\"dataframe\">\n",
              "  <thead>\n",
              "    <tr style=\"text-align: right;\">\n",
              "      <th></th>\n",
              "      <th>VendorID</th>\n",
              "      <th>passenger_count</th>\n",
              "      <th>trip_distance</th>\n",
              "      <th>RatecodeID</th>\n",
              "      <th>PULocationID</th>\n",
              "      <th>DOLocationID</th>\n",
              "      <th>payment_type</th>\n",
              "      <th>fare_amount</th>\n",
              "      <th>congestion_surcharge</th>\n",
              "      <th>hour</th>\n",
              "      <th>day</th>\n",
              "      <th>month</th>\n",
              "      <th>weekday</th>\n",
              "      <th>year</th>\n",
              "    </tr>\n",
              "  </thead>\n",
              "  <tbody>\n",
              "    <tr>\n",
              "      <th>count</th>\n",
              "      <td>50987.000000</td>\n",
              "      <td>50987.000000</td>\n",
              "      <td>50987.000000</td>\n",
              "      <td>50987.000000</td>\n",
              "      <td>50987.000000</td>\n",
              "      <td>50987.000000</td>\n",
              "      <td>50987.000000</td>\n",
              "      <td>50987.000000</td>\n",
              "      <td>50987.000000</td>\n",
              "      <td>50987.000000</td>\n",
              "      <td>50987.000000</td>\n",
              "      <td>50987.000000</td>\n",
              "      <td>50987.000000</td>\n",
              "      <td>50987.000000</td>\n",
              "    </tr>\n",
              "    <tr>\n",
              "      <th>mean</th>\n",
              "      <td>1.623669</td>\n",
              "      <td>1.398141</td>\n",
              "      <td>2.894552</td>\n",
              "      <td>1.022143</td>\n",
              "      <td>160.988683</td>\n",
              "      <td>155.864456</td>\n",
              "      <td>1.363701</td>\n",
              "      <td>11.588601</td>\n",
              "      <td>2.175996</td>\n",
              "      <td>13.682958</td>\n",
              "      <td>16.990213</td>\n",
              "      <td>6.000078</td>\n",
              "      <td>2.581246</td>\n",
              "      <td>2019.999784</td>\n",
              "    </tr>\n",
              "    <tr>\n",
              "      <th>std</th>\n",
              "      <td>0.484469</td>\n",
              "      <td>1.010320</td>\n",
              "      <td>3.388597</td>\n",
              "      <td>0.224687</td>\n",
              "      <td>68.303478</td>\n",
              "      <td>73.316556</td>\n",
              "      <td>0.506916</td>\n",
              "      <td>9.626588</td>\n",
              "      <td>0.839670</td>\n",
              "      <td>4.855799</td>\n",
              "      <td>8.615036</td>\n",
              "      <td>0.025823</td>\n",
              "      <td>1.919016</td>\n",
              "      <td>0.048715</td>\n",
              "    </tr>\n",
              "    <tr>\n",
              "      <th>min</th>\n",
              "      <td>1.000000</td>\n",
              "      <td>1.000000</td>\n",
              "      <td>0.010000</td>\n",
              "      <td>1.000000</td>\n",
              "      <td>1.000000</td>\n",
              "      <td>1.000000</td>\n",
              "      <td>1.000000</td>\n",
              "      <td>2.500000</td>\n",
              "      <td>0.000000</td>\n",
              "      <td>0.000000</td>\n",
              "      <td>1.000000</td>\n",
              "      <td>1.000000</td>\n",
              "      <td>0.000000</td>\n",
              "      <td>2009.000000</td>\n",
              "    </tr>\n",
              "    <tr>\n",
              "      <th>25%</th>\n",
              "      <td>1.000000</td>\n",
              "      <td>1.000000</td>\n",
              "      <td>1.040000</td>\n",
              "      <td>1.000000</td>\n",
              "      <td>113.000000</td>\n",
              "      <td>90.000000</td>\n",
              "      <td>1.000000</td>\n",
              "      <td>6.000000</td>\n",
              "      <td>2.500000</td>\n",
              "      <td>10.000000</td>\n",
              "      <td>10.000000</td>\n",
              "      <td>6.000000</td>\n",
              "      <td>1.000000</td>\n",
              "      <td>2020.000000</td>\n",
              "    </tr>\n",
              "    <tr>\n",
              "      <th>50%</th>\n",
              "      <td>2.000000</td>\n",
              "      <td>1.000000</td>\n",
              "      <td>1.800000</td>\n",
              "      <td>1.000000</td>\n",
              "      <td>161.000000</td>\n",
              "      <td>158.000000</td>\n",
              "      <td>1.000000</td>\n",
              "      <td>8.500000</td>\n",
              "      <td>2.500000</td>\n",
              "      <td>14.000000</td>\n",
              "      <td>18.000000</td>\n",
              "      <td>6.000000</td>\n",
              "      <td>2.000000</td>\n",
              "      <td>2020.000000</td>\n",
              "    </tr>\n",
              "    <tr>\n",
              "      <th>75%</th>\n",
              "      <td>2.000000</td>\n",
              "      <td>1.000000</td>\n",
              "      <td>3.200000</td>\n",
              "      <td>1.000000</td>\n",
              "      <td>234.000000</td>\n",
              "      <td>234.000000</td>\n",
              "      <td>2.000000</td>\n",
              "      <td>13.000000</td>\n",
              "      <td>2.500000</td>\n",
              "      <td>17.000000</td>\n",
              "      <td>24.000000</td>\n",
              "      <td>6.000000</td>\n",
              "      <td>4.000000</td>\n",
              "      <td>2020.000000</td>\n",
              "    </tr>\n",
              "    <tr>\n",
              "      <th>max</th>\n",
              "      <td>2.000000</td>\n",
              "      <td>6.000000</td>\n",
              "      <td>40.050000</td>\n",
              "      <td>5.000000</td>\n",
              "      <td>265.000000</td>\n",
              "      <td>265.000000</td>\n",
              "      <td>5.000000</td>\n",
              "      <td>100.000000</td>\n",
              "      <td>2.500000</td>\n",
              "      <td>23.000000</td>\n",
              "      <td>30.000000</td>\n",
              "      <td>7.000000</td>\n",
              "      <td>6.000000</td>\n",
              "      <td>2020.000000</td>\n",
              "    </tr>\n",
              "  </tbody>\n",
              "</table>\n",
              "</div>"
            ],
            "text/plain": [
              "           VendorID  passenger_count  ...       weekday          year\n",
              "count  50987.000000     50987.000000  ...  50987.000000  50987.000000\n",
              "mean       1.623669         1.398141  ...      2.581246   2019.999784\n",
              "std        0.484469         1.010320  ...      1.919016      0.048715\n",
              "min        1.000000         1.000000  ...      0.000000   2009.000000\n",
              "25%        1.000000         1.000000  ...      1.000000   2020.000000\n",
              "50%        2.000000         1.000000  ...      2.000000   2020.000000\n",
              "75%        2.000000         1.000000  ...      4.000000   2020.000000\n",
              "max        2.000000         6.000000  ...      6.000000   2020.000000\n",
              "\n",
              "[8 rows x 14 columns]"
            ]
          },
          "metadata": {},
          "execution_count": 19
        }
      ]
    },
    {
      "cell_type": "code",
      "metadata": {
        "colab": {
          "base_uri": "https://localhost:8080/"
        },
        "id": "xRLP1EiSCZAW",
        "outputId": "bf66441d-b758-47a5-affa-4562b09028bf"
      },
      "source": [
        "y = train_df['fare_amount'] # ground-truth values\n",
        "train_df = train_df.drop(columns=['fare_amount'])\n",
        "x_train,x_test,y_train,y_test = train_test_split(train_df,y,random_state=123,test_size=0.10)\n",
        "\n",
        "params = {                                              \n",
        "        'boosting_type':'gbdt',\n",
        "        'objective': 'regression',\n",
        "        'nthread': 4,\n",
        "        'num_leaves': 31,\n",
        "        'learning_rate': 0.05,\n",
        "        'max_depth': -1,\n",
        "        'subsample': 0.8,\n",
        "        'bagging_fraction' : 1,\n",
        "        'max_bin' : 5000 ,\n",
        "        'bagging_freq': 20,\n",
        "        'colsample_bytree': 0.6,\n",
        "        'metric': 'rmse',\n",
        "        'min_split_gain': 0.5,\n",
        "        'min_child_weight': 1,\n",
        "        'min_child_samples': 10,\n",
        "        'scale_pos_weight':1,\n",
        "        'zero_as_missing': True,\n",
        "        'seed':0,\n",
        "        'num_rounds':50000\n",
        "    }    # manually hypertuned\n",
        "    \n",
        "train_set = lgbm.Dataset(x_train, y_train, silent=False,categorical_feature=['year','month','day','weekday'])  # Using lightgbm model \n",
        "valid_set = lgbm.Dataset(x_test, y_test, silent=False,categorical_feature=['year','month','day','weekday'])\n",
        "model = lgbm.train(params, train_set = train_set, num_boost_round=10000,early_stopping_rounds=500,verbose_eval=500, valid_sets=valid_set)"
      ],
      "execution_count": null,
      "outputs": [
        {
          "output_type": "stream",
          "name": "stderr",
          "text": [
            "/usr/local/lib/python3.7/dist-packages/lightgbm/engine.py:118: UserWarning: Found `num_rounds` in params. Will use it instead of argument\n",
            "  warnings.warn(\"Found `{}` in params. Will use it instead of argument\".format(alias))\n",
            "/usr/local/lib/python3.7/dist-packages/lightgbm/basic.py:1205: UserWarning: Using categorical_feature in Dataset.\n",
            "  warnings.warn('Using categorical_feature in Dataset.')\n",
            "/usr/local/lib/python3.7/dist-packages/lightgbm/basic.py:762: UserWarning: categorical_feature in param dict is overridden.\n",
            "  warnings.warn('categorical_feature in param dict is overridden.')\n"
          ]
        },
        {
          "output_type": "stream",
          "name": "stdout",
          "text": [
            "Training until validation scores don't improve for 500 rounds.\n",
            "[500]\tvalid_0's rmse: 1.56223\n",
            "[1000]\tvalid_0's rmse: 1.54057\n",
            "Early stopping, best iteration is:\n",
            "[979]\tvalid_0's rmse: 1.54044\n"
          ]
        }
      ]
    },
    {
      "cell_type": "code",
      "metadata": {
        "colab": {
          "base_uri": "https://localhost:8080/"
        },
        "id": "Y2D7cREeC1UQ",
        "outputId": "ec15279b-2ea8-4aa6-e8fe-1f0421143115"
      },
      "source": [
        "y_pred = model.predict(x_test)    # Test error\n",
        "print(mse(y_test, y_pred,squared=False))"
      ],
      "execution_count": null,
      "outputs": [
        {
          "output_type": "stream",
          "name": "stdout",
          "text": [
            "1.5405906461434669\n"
          ]
        }
      ]
    },
    {
      "cell_type": "code",
      "metadata": {
        "colab": {
          "base_uri": "https://localhost:8080/"
        },
        "id": "xZ1CnEQWDHEA",
        "outputId": "6d312542-e7fe-4978-ab48-cbd2c715570b"
      },
      "source": [
        "y_predc = model.predict(x_train)  # Training error\n",
        "print(mse(y_train, y_predc,squared=False))"
      ],
      "execution_count": null,
      "outputs": [
        {
          "output_type": "stream",
          "name": "stdout",
          "text": [
            "1.2218166081370903\n"
          ]
        }
      ]
    },
    {
      "cell_type": "code",
      "metadata": {
        "id": "n6B_lLeCDLAn"
      },
      "source": [
        "test_df = pd.read_csv(\"/content/test_data_iitm.csv\")    # reading test data\n",
        "test_df = test_df.drop([\"store_and_fwd_flag\"],axis = 1).fillna(0)\n",
        "test_df = add_datetime_info_pu(test_df)\n",
        "test_df = add_datetime_info_do(test_df)\n",
        "test_df.drop(columns=['tpep_pickup_datetime', 'tpep_dropoff_datetime'], inplace=True)"
      ],
      "execution_count": null,
      "outputs": []
    },
    {
      "cell_type": "code",
      "metadata": {
        "id": "qPbSAag4ELvn"
      },
      "source": [
        "y_predi = model.predict(test_df).round(2)   #predicting fare_amount using the trained model\n",
        "test_df[\"fare_amount\"] = y_predi\n",
        "test_df.to_csv(\"/content/test_data_iitm.csv\",index=False)"
      ],
      "execution_count": null,
      "outputs": []
    },
    {
      "cell_type": "code",
      "metadata": {
        "colab": {
          "base_uri": "https://localhost:8080/",
          "height": 206
        },
        "id": "dS1dgft8Eieq",
        "outputId": "b3d5f912-eeb8-4ef8-d1c8-d3a5899a5dfb"
      },
      "source": [
        "test_df.head()"
      ],
      "execution_count": null,
      "outputs": [
        {
          "output_type": "execute_result",
          "data": {
            "text/html": [
              "<div>\n",
              "<style scoped>\n",
              "    .dataframe tbody tr th:only-of-type {\n",
              "        vertical-align: middle;\n",
              "    }\n",
              "\n",
              "    .dataframe tbody tr th {\n",
              "        vertical-align: top;\n",
              "    }\n",
              "\n",
              "    .dataframe thead th {\n",
              "        text-align: right;\n",
              "    }\n",
              "</style>\n",
              "<table border=\"1\" class=\"dataframe\">\n",
              "  <thead>\n",
              "    <tr style=\"text-align: right;\">\n",
              "      <th></th>\n",
              "      <th>VendorID</th>\n",
              "      <th>passenger_count</th>\n",
              "      <th>trip_distance</th>\n",
              "      <th>RatecodeID</th>\n",
              "      <th>PULocationID</th>\n",
              "      <th>DOLocationID</th>\n",
              "      <th>payment_type</th>\n",
              "      <th>congestion_surcharge</th>\n",
              "      <th>hour</th>\n",
              "      <th>day</th>\n",
              "      <th>month</th>\n",
              "      <th>weekday</th>\n",
              "      <th>year</th>\n",
              "      <th>fare_amount</th>\n",
              "    </tr>\n",
              "  </thead>\n",
              "  <tbody>\n",
              "    <tr>\n",
              "      <th>0</th>\n",
              "      <td>2.0</td>\n",
              "      <td>1.0</td>\n",
              "      <td>1.66</td>\n",
              "      <td>1.0</td>\n",
              "      <td>48</td>\n",
              "      <td>90</td>\n",
              "      <td>1.0</td>\n",
              "      <td>2.5</td>\n",
              "      <td>18</td>\n",
              "      <td>30</td>\n",
              "      <td>6</td>\n",
              "      <td>1</td>\n",
              "      <td>2020</td>\n",
              "      <td>7.74</td>\n",
              "    </tr>\n",
              "    <tr>\n",
              "      <th>1</th>\n",
              "      <td>2.0</td>\n",
              "      <td>3.0</td>\n",
              "      <td>1.50</td>\n",
              "      <td>1.0</td>\n",
              "      <td>48</td>\n",
              "      <td>246</td>\n",
              "      <td>2.0</td>\n",
              "      <td>2.5</td>\n",
              "      <td>23</td>\n",
              "      <td>27</td>\n",
              "      <td>6</td>\n",
              "      <td>5</td>\n",
              "      <td>2020</td>\n",
              "      <td>7.29</td>\n",
              "    </tr>\n",
              "    <tr>\n",
              "      <th>2</th>\n",
              "      <td>1.0</td>\n",
              "      <td>1.0</td>\n",
              "      <td>1.90</td>\n",
              "      <td>1.0</td>\n",
              "      <td>237</td>\n",
              "      <td>234</td>\n",
              "      <td>1.0</td>\n",
              "      <td>2.5</td>\n",
              "      <td>13</td>\n",
              "      <td>9</td>\n",
              "      <td>6</td>\n",
              "      <td>1</td>\n",
              "      <td>2020</td>\n",
              "      <td>8.94</td>\n",
              "    </tr>\n",
              "    <tr>\n",
              "      <th>3</th>\n",
              "      <td>2.0</td>\n",
              "      <td>1.0</td>\n",
              "      <td>0.27</td>\n",
              "      <td>1.0</td>\n",
              "      <td>170</td>\n",
              "      <td>170</td>\n",
              "      <td>2.0</td>\n",
              "      <td>2.5</td>\n",
              "      <td>9</td>\n",
              "      <td>20</td>\n",
              "      <td>6</td>\n",
              "      <td>5</td>\n",
              "      <td>2020</td>\n",
              "      <td>3.05</td>\n",
              "    </tr>\n",
              "    <tr>\n",
              "      <th>4</th>\n",
              "      <td>2.0</td>\n",
              "      <td>2.0</td>\n",
              "      <td>4.06</td>\n",
              "      <td>1.0</td>\n",
              "      <td>186</td>\n",
              "      <td>238</td>\n",
              "      <td>2.0</td>\n",
              "      <td>2.5</td>\n",
              "      <td>18</td>\n",
              "      <td>23</td>\n",
              "      <td>6</td>\n",
              "      <td>1</td>\n",
              "      <td>2020</td>\n",
              "      <td>15.85</td>\n",
              "    </tr>\n",
              "  </tbody>\n",
              "</table>\n",
              "</div>"
            ],
            "text/plain": [
              "   VendorID  passenger_count  trip_distance  ...  weekday  year  fare_amount\n",
              "0       2.0              1.0           1.66  ...        1  2020         7.74\n",
              "1       2.0              3.0           1.50  ...        5  2020         7.29\n",
              "2       1.0              1.0           1.90  ...        1  2020         8.94\n",
              "3       2.0              1.0           0.27  ...        5  2020         3.05\n",
              "4       2.0              2.0           4.06  ...        1  2020        15.85\n",
              "\n",
              "[5 rows x 14 columns]"
            ]
          },
          "metadata": {},
          "execution_count": 25
        }
      ]
    }
  ]
}